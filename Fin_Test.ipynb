import csv
import re

# Define stopwords (a basic list for demonstration)
stopwords = set(['the', 'to', 'and', 'a', 'in', 'it', 'is', 'I', 'that', 'you', 'was', 'for', 'on', 'are', 'with', 'as', 'have'])

# Function to clean text
def clean_text(text):
    # Remove symbols and convert to lowercase
    text = re.sub(r'[^\w\s]', '', text.lower())
    # Remove stopwords
    return ' '.join([word for word in text.split() if word not in stopwords])

# Function to extract rate
def extract_rate(text):
    rate_match = re.search(r'\d+\.\d+', text)
    return float(rate_match.group()) if rate_match else None

# Function to determine sentiment (very basic for demonstration)
def get_sentiment(text):
    positive_words = ['good', 'appreciate', 'deal', 'done']
    negative_words = ['tight', 'below']

    positive_count = sum(1 for word in positive_words if word in text.lower())
    negative_count = sum(1 for word in negative_words if word in text.lower())

    if positive_count > negative_count:
        return 'Positive'
    elif negative_count > positive_count:
        return 'Negative'
    else:
        return 'Neutral'

# Function to read chat from file
def read_chat_from_file():
    chat_lines = []
    current_speaker = ""
    current_timestamp = ""
    current_message = ""

    # Use t1.txt located in the same directory as the script
    file_path = "T1.txt"

    try:
        with open(file_path, 'r', encoding='utf-8') as file:
            for line in file:
                line = line.strip()
                if line.startswith("**") and line.endswith(":**"):
                    if current_speaker and current_timestamp and current_message:
                        chat_lines.append((current_timestamp, current_speaker, current_message.strip()))
                    current_speaker = line.strip("**:")
                    current_message = ""
                elif line.startswith("*") and line.endswith("*"):
                    current_timestamp = line.strip("*")
                else:
                    current_message += " " + line

            # Append the last message
            if current_speaker and current_timestamp and current_message:
                chat_lines.append((current_timestamp, current_speaker, current_message.strip()))

        return chat_lines

    except FileNotFoundError:
        print(f"The file {file_path} was not found.")
    except Exception as e:
        print(f"An error occurred: {e}")

# Example usage
chat_content = read_chat_from_file()
for entry in chat_content:
    print(entry)

# Process the chat and write to CSV
csv_content = [['Timestamp', 'Speaker', 'Cleaned_Message', 'Token_Category', 'Rate', 'Sentiment']]

# Replace 'chat_transcript.txt' with the actual path to your text file
file_path = 'chat_transcript.txt'
chat_lines = read_chat_from_file(file_path)

for timestamp, speaker, message in chat_lines:
    cleaned_message = clean_text(message)
    rate = extract_rate(message)
    sentiment = get_sentiment(message)

    if 'USD' in message or 'NGN' in message:
        token_category = 'Currency'
    elif '$' in message or 'million' in message:
        token_category = 'Amount'
    elif 'rate' in message.lower():
        token_category = 'Rate Inquiry'
    elif rate:
        token_category = 'Rate Offer'
    else:
        token_category = 'General'

    csv_content.append([timestamp, speaker, cleaned_message, token_category, rate if rate else '', sentiment])

# Write to CSV file
output_file = 'processed_chat.csv'
with open(output_file, 'w', newline='') as csvfile:
    writer = csv.writer(csvfile)
    writer.writerows(csv_content)

print(f"CSV file '{output_file}' has been created successfully.")
