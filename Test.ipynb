import nltk
from transformers import AutoTokenizer
nltk.download('punkt_tab')
# Check NLTK tokenizer
text = "Hello, world! This is a test."
tokens = nltk.word_tokenize(text)
print("NLTK Tokens:", tokens)

# Check Transformers tokenizer
tokenizer = AutoTokenizer.from_pretrained("bert-base-uncased")
transformer_tokens = tokenizer.tokenize(text)
print("Transformers Tokens:", transformer_tokens)