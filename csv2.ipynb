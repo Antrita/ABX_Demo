import csv
import re
from transformers import AutoTokenizer
import torch

#handling for spaces with BERT
tokenizer = AutoTokenizer.from_pretrained("bert-base-uncased", use_fast=True)

# Function to clean text (BERT tokenizer)
def clean_text(text):
    return re.sub(r'[^\w\s]', '', text.lower())

# Improved function to extract rate
def extract_rate(text):
    # This pattern looks for numbers that could represent exchange rates
    rate_pattern = r'\b\d{1,4}(?:\.\d{1,4})?\b'
    rates = re.findall(rate_pattern, text)
    # Convert found rates to float and filter out unlikely values
    rates = [float(rate) for rate in rates if 100 < float(rate) < 1000]
    return rates[0] if rates else None

# Function to determine sentiment
def get_sentiment(text):
    positive_words = ['good','ok','agreed' 'appreciate', 'deal', 'done', 'smooth']
    negative_words = ['tight', 'below', "isn't", 'comfortable', 'not', "can't"]

    positive_count = sum(1 for word in positive_words if word in text.lower())
    negative_count = sum(1 for word in negative_words if word in text.lower())

    if positive_count > negative_count:
        return 'Positive'
    elif negative_count > positive_count:
        return 'Negative'
    else:
        return 'Neutral'

# Function to read chat from file
def read_chat_from_file(file_path):
    chat_lines = []
    current_speaker = ""
    current_timestamp = ""
    current_message = ""

    with open(file_path, 'r', encoding='utf-8') as file:
        for line in file:
            line = line.strip()
            if line.startswith("**") and line.endswith(":**"):
                if current_speaker and current_timestamp and current_message:
                    chat_lines.append((current_timestamp, current_speaker, current_message.strip()))
                current_speaker = line.strip("**:")
                current_message = ""
            elif line.startswith("*") and line.endswith("*"):
                current_timestamp = line.strip("*")
            else:
                current_message += " " + line

        # Add the last message
        if current_speaker and current_timestamp and current_message:
            chat_lines.append((current_timestamp, current_speaker, current_message.strip()))

    return chat_lines

# Process the chat and write to CSV
csv_content = [['Timestamp', 'Speaker', 'Cleaned_Message', 'Token_Category', 'Rate', 'Sentiment', 'BERT_Tokens']]

# Replace 'chat_transcript.txt' with the actual path to your text file
file_path = 'T1.txt'
chat_lines = read_chat_from_file(file_path)

for timestamp, speaker, message in chat_lines:
    cleaned_message = clean_text(message)
    rate = extract_rate(message)
    sentiment = get_sentiment(message)

    # Use BERT tokenizer
    bert_tokens = tokenizer.tokenize(message)

    if 'USD' in message or 'NGN' in message:
        token_category = 'Currency'
    elif '$' in message or 'million' in message:
        token_category = 'Amount'
    elif 'rate' in message.lower():
        token_category = 'Rate Inquiry'
    elif rate:
        token_category = 'Rate Offer'
    else:
        token_category = 'General'

    csv_content.append([
        timestamp,
        speaker,
        cleaned_message,
        token_category,
        rate if rate else '',
        sentiment,
        ' '.join(bert_tokens)  # Join BERT tokens into a string
    ])

# Write to CSV file
output_file = 'processed_chat.csv'
with open(output_file, 'w', newline='', encoding='utf-8') as csvfile:
    writer = csv.writer(csvfile)
    writer.writerows(csv_content)

print(f"CSV file '{output_file}' has been created successfully.")