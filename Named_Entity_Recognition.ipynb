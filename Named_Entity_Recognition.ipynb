import pandas as pd
import spacy
from spacy.tokens import DocBin
from spacy.util import filter_spans

# Load the English language model
nlp = spacy.load("en_core_web_sm")

# Add a custom component to the pipeline to identify 'kemi' and 'chinedu' as persons
@spacy.Language.component("custom_names")
def custom_names(doc):
    custom_entities = {'kemi': 'PERSON', 'chinedu': 'PERSON'}
    new_ents = []
    for token in doc:
        lower_token = token.text.lower()
        if lower_token in custom_entities:
            new_ent = spacy.tokens.Span(doc, token.i, token.i + 1, label=custom_entities[lower_token])
            new_ents.append(new_ent)
    doc.ents = filter_spans(list(doc.ents) + new_ents)
    return doc

# Add the custom component to the pipeline
nlp.add_pipe("custom_names", before="ner")

# Read the CSV file
df = pd.read_csv("processed_chat.csv")

# Function to perform NER on a text
def perform_ner(text):
    doc = nlp(text)
    return [(ent.text, ent.label_) for ent in doc.ents]

# Apply NER to each specified field
fields = ["Timestamp", "Speaker", "Cleaned_Message", "BERT_Tokens"]
ner_results = {field: df[field].astype(str).apply(perform_ner) for field in fields}

# Create a new DataFrame with the NER results
ner_df = pd.DataFrame(ner_results)

# Function to format NER results as a string
def format_ner_results(results):
    return str(results) if results else ''

# Apply formatting to each column
for field in fields:
    ner_df[field] = ner_df[field].apply(format_ner_results)

# Reorder columns to match the image
ner_df = ner_df[["Timestamp", "Speaker", "Cleaned_Message", "BERT_Tokens"]]

# Save the results to NER1.csv
ner_df.to_csv("NER1.csv", index=False)

print("NER results saved to NER1.csv")

# Display the first few rows of the resulting dataframe
print(ner_df.head())